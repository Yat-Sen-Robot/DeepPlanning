{
 "cells": [
  {
   "cell_type": "code",
   "execution_count": null,
   "metadata": {},
   "outputs": [],
   "source": [
    "import numpy as np\n",
    "import csv\n",
    "import os\n",
    "\n",
    "\n",
    "class Toolbox:\n",
    "    @staticmethod\n",
    "    def read_csv(file_name, delimiter=','):\n",
    "        products = csv.reader(open(file_name, newline=''), delimiter=delimiter, quotechar='|')\n",
    "        my_list = []\n",
    "        for row in products:\n",
    "            dozen = []\n",
    "            for item in row:\n",
    "                if item is not '':\n",
    "                    dozen.append(float(item))\n",
    "            my_list.append(dozen)\n",
    "        return my_list"
   ]
  }
 ],
 "metadata": {
  "kernelspec": {
   "display_name": "Python 3",
   "language": "python",
   "name": "python3"
  },
  "language_info": {
   "codemirror_mode": {
    "name": "ipython",
    "version": 3
   },
   "file_extension": ".py",
   "mimetype": "text/x-python",
   "name": "python",
   "nbconvert_exporter": "python",
   "pygments_lexer": "ipython3",
   "version": "3.5.2"
  }
 },
 "nbformat": 4,
 "nbformat_minor": 2
}
